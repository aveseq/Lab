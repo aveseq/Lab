{
 "cells": [
  {
   "cell_type": "code",
   "execution_count": 1,
   "metadata": {},
   "outputs": [],
   "source": [
    "import numpy as np"
   ]
  },
  {
   "cell_type": "code",
   "execution_count": 2,
   "metadata": {},
   "outputs": [
    {
     "name": "stdout",
     "output_type": "stream",
     "text": [
      "Empty Array\n",
      "[[4128860 6029375 3801155 5570652]\n",
      " [6619251 7536754 6357084 6815842]\n",
      " [7536745 4259932 7340144 6357060]]\n"
     ]
    }
   ],
   "source": [
    "emA = np.empty((3, 4), dtype=int)\n",
    "print(\"Empty Array\")\n",
    "print(emA)"
   ]
  },
  {
   "cell_type": "code",
   "execution_count": 3,
   "metadata": {},
   "outputs": [
    {
     "name": "stdout",
     "output_type": "stream",
     "text": [
      "2D array:\n",
      " [[1 2 3]\n",
      " [2 3 4]\n",
      " [4 5 6]\n",
      " [7 8 9]]\n",
      "Full Array:\n",
      "\n",
      "[[8 8 8]\n",
      " [8 8 8]\n",
      " [8 8 8]]\n"
     ]
    }
   ],
   "source": [
    "arr2=np.array([[1,2,3],[2,3,4],[4,5,6],[7,8,9]])\n",
    "print(\"2D array:\\n\",arr2)\n",
    "\n",
    "arr3=np.full([3,3],8,dtype = int)\n",
    "print(\"Full Array:\\n\")\n",
    "print(arr3)"
   ]
  },
  {
   "cell_type": "code",
   "execution_count": 4,
   "metadata": {},
   "outputs": [
    {
     "name": "stdout",
     "output_type": "stream",
     "text": [
      "Empty Array\n",
      "[[4128860 6029375 3801155 5570652]\n",
      " [6619251 7536754 6357084 6815842]\n",
      " [7536745 4259932 7340144 6357060]]\n"
     ]
    }
   ],
   "source": [
    "emz = np.empty((3, 4), dtype=int)\n",
    "print(\"Empty Array\")\n",
    "print(emz)"
   ]
  },
  {
   "cell_type": "code",
   "execution_count": 5,
   "metadata": {},
   "outputs": [
    {
     "name": "stdout",
     "output_type": "stream",
     "text": [
      "[[1 1 1]\n",
      " [1 1 1]\n",
      " [1 1 1]]\n"
     ]
    }
   ],
   "source": [
    "arrone = np.full([3,3],1,dtype=int)\n",
    "print(arrone)"
   ]
  },
  {
   "cell_type": "code",
   "execution_count": 6,
   "metadata": {},
   "outputs": [
    {
     "name": "stdout",
     "output_type": "stream",
     "text": [
      "[[ True  True False]\n",
      " [ True False  True]\n",
      " [False  True  True]]\n"
     ]
    }
   ],
   "source": [
    "msk = np.array([[2,3,-1],[2,-3,5],[-3,4,8]])\n",
    "mask = msk>0\n",
    "print(mask)"
   ]
  },
  {
   "cell_type": "code",
   "execution_count": 7,
   "metadata": {},
   "outputs": [
    {
     "name": "stdout",
     "output_type": "stream",
     "text": [
      "True\n",
      "False\n"
     ]
    }
   ],
   "source": [
    "#Check whether a Numpy array contains a specified row\n",
    "print([2,-3,5] in msk.tolist())\n",
    "print([2,1,-4] in msk.tolist())"
   ]
  },
  {
   "cell_type": "code",
   "execution_count": 8,
   "metadata": {},
   "outputs": [
    {
     "name": "stdout",
     "output_type": "stream",
     "text": [
      "[[ 2.  3. -1.]\n",
      " [ 2. -3.  5.]\n",
      " [-3.  4.  8.]]\n"
     ]
    }
   ],
   "source": [
    "#How to Remove rows in Numpy array that contains non-numeric values?\n",
    "arrd = np.array([[2,3,-1],[2,-3,5],[-3,4,8],[2,np.nan,np.nan]])\n",
    "print(arrd[~np.isnan(arrd).any(axis=1)])"
   ]
  },
  {
   "cell_type": "code",
   "execution_count": 9,
   "metadata": {},
   "outputs": [
    {
     "name": "stdout",
     "output_type": "stream",
     "text": [
      "(3, 4)\n"
     ]
    }
   ],
   "source": [
    "#Remove single-dimensional entries from the shape of an array\n",
    "x = np.zeros((3, 1, 4))\n",
    "print(np.squeeze(x).shape)"
   ]
  },
  {
   "cell_type": "code",
   "execution_count": 10,
   "metadata": {},
   "outputs": [
    {
     "name": "stdout",
     "output_type": "stream",
     "text": [
      "3\n"
     ]
    }
   ],
   "source": [
    "#Find the number of occurrences of a sequence in a NumPy array\n",
    "arrd = np.array([[2,3,-1],[2,-3,5],[-3,4,8],[2,np.nan,np.nan]])\n",
    "count = repr(arrd).count(\"3\")\n",
    "print(count)"
   ]
  },
  {
   "cell_type": "code",
   "execution_count": 11,
   "metadata": {},
   "outputs": [
    {
     "name": "stdout",
     "output_type": "stream",
     "text": [
      "[1 2 2 1 2 1 2 1 1]\n",
      "5\n"
     ]
    }
   ],
   "source": [
    "#Masking\n",
    "arr11=np.array([1,2,3,4,5,6,7,8,9,9])\n",
    "mask=np.array([0,1,1,0,1,0,1,0,0])\n",
    "b=arr11[mask]\n",
    "print(b)\n",
    "count = repr(mask).count(\"0\")\n",
    "print(count)"
   ]
  },
  {
   "cell_type": "code",
   "execution_count": 12,
   "metadata": {},
   "outputs": [
    {
     "name": "stdout",
     "output_type": "stream",
     "text": [
      "0\n"
     ]
    }
   ],
   "source": [
    "#Find the most frequent value in a NumPy array\n",
    "arrc =np.array([0,1,1,0,1,0,1,0,0])\n",
    "x= np.bincount(arrc).argmax()\n",
    "print(x)"
   ]
  },
  {
   "cell_type": "code",
   "execution_count": 13,
   "metadata": {},
   "outputs": [
    {
     "name": "stdout",
     "output_type": "stream",
     "text": [
      "[1 2 3 4 5 6]\n",
      "[[ 3  4  5  6  7  8]\n",
      " [ 9 10 11 12 13 14]]\n",
      "1:3\n",
      "2:4\n",
      "3:5\n",
      "4:6\n",
      "5:7\n",
      "6:8\n",
      "1:9\n",
      "2:10\n",
      "3:11\n",
      "4:12\n",
      "5:13\n",
      "6:14\n"
     ]
    }
   ],
   "source": [
    "#Combining a one and a two-dimensional NumPy Array\n",
    "arr1d = np.arange(1,7)\n",
    "print(arr1d)\n",
    "arr2d = np.arange(3,15).reshape(2,6)\n",
    "print(arr2d)\n",
    "for a,b in np.nditer([arr1d,arr2d]):\n",
    "    print(\"%d:%d\" % (a,b) , )"
   ]
  },
  {
   "cell_type": "code",
   "execution_count": 14,
   "metadata": {},
   "outputs": [
    {
     "name": "stdout",
     "output_type": "stream",
     "text": [
      "[[ 2  1  2]\n",
      " [ 2  2  4]\n",
      " [ 2  3  2]\n",
      " [-2  2  5]\n",
      " [ 2  4  2]\n",
      " [-5  2  9]\n",
      " [ 3  1  3]\n",
      " [ 2  3  4]\n",
      " [ 3  3  3]\n",
      " [-2  3  5]\n",
      " [ 3  4  3]\n",
      " [-5  3  9]\n",
      " [-1  1 -1]\n",
      " [ 2 -1  4]\n",
      " [-1  3 -1]\n",
      " [-2 -1  5]\n",
      " [-1  4 -1]\n",
      " [-5 -1  9]\n",
      " [ 2  1  2]\n",
      " [ 2  2  4]\n",
      " [ 2  3  2]\n",
      " [-2  2  5]\n",
      " [ 2  4  2]\n",
      " [-5  2  9]\n",
      " [-3  1 -3]\n",
      " [ 2 -3  4]\n",
      " [-3  3 -3]\n",
      " [-2 -3  5]\n",
      " [-3  4 -3]\n",
      " [-5 -3  9]\n",
      " [ 5  1  5]\n",
      " [ 2  5  4]\n",
      " [ 5  3  5]\n",
      " [-2  5  5]\n",
      " [ 5  4  5]\n",
      " [-5  5  9]\n",
      " [-3  1 -3]\n",
      " [ 2 -3  4]\n",
      " [-3  3 -3]\n",
      " [-2 -3  5]\n",
      " [-3  4 -3]\n",
      " [-5 -3  9]\n",
      " [ 4  1  4]\n",
      " [ 2  4  4]\n",
      " [ 4  3  4]\n",
      " [-2  4  5]\n",
      " [ 4  4  4]\n",
      " [-5  4  9]\n",
      " [ 8  1  8]\n",
      " [ 2  8  4]\n",
      " [ 8  3  8]\n",
      " [-2  8  5]\n",
      " [ 8  4  8]\n",
      " [-5  8  9]]\n"
     ]
    }
   ],
   "source": [
    "# How to build an array of all combinations of two NumPy arrays?\n",
    "arx = np.array([[2,3,-1],[2,-3,5],[-3,4,8]])\n",
    "ary = np.array([[1,2,4],[3,-2,5],[4,-5,9]])\n",
    "comb_arr = np.array(np.meshgrid(arx,ary)).T.reshape(-1,3)\n",
    "print(comb_arr)"
   ]
  }
 ],
 "metadata": {
  "kernelspec": {
   "display_name": "base",
   "language": "python",
   "name": "python3"
  },
  "language_info": {
   "codemirror_mode": {
    "name": "ipython",
    "version": 3
   },
   "file_extension": ".py",
   "mimetype": "text/x-python",
   "name": "python",
   "nbconvert_exporter": "python",
   "pygments_lexer": "ipython3",
   "version": "3.10.9"
  },
  "orig_nbformat": 4
 },
 "nbformat": 4,
 "nbformat_minor": 2
}
