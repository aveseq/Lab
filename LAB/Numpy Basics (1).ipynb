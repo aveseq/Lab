{
 "cells": [
  {
   "cell_type": "code",
   "execution_count": 1,
   "metadata": {},
   "outputs": [],
   "source": [
    "#importing numpy\n",
    "import numpy as np"
   ]
  },
  {
   "cell_type": "code",
   "execution_count": 2,
   "metadata": {},
   "outputs": [
    {
     "name": "stdout",
     "output_type": "stream",
     "text": [
      "1D array: [1 2 3 4 5 6]\n"
     ]
    }
   ],
   "source": [
    "#1D array\n",
    "arr1=np.array([1,2,3,4,5,6])\n",
    "print(\"1D array:\",arr1)"
   ]
  },
  {
   "cell_type": "code",
   "execution_count": 3,
   "metadata": {},
   "outputs": [
    {
     "name": "stdout",
     "output_type": "stream",
     "text": [
      "2D array: [[1 2 3]\n",
      " [2 3 4]\n",
      " [4 5 6]\n",
      " [7 8 9]]\n"
     ]
    }
   ],
   "source": [
    "#2D array\n",
    "arr2=np.array([[1,2,3],[2,3,4],[4,5,6],[7,8,9]])\n",
    "print(\"2D array:\",arr2)"
   ]
  },
  {
   "cell_type": "code",
   "execution_count": 16,
   "metadata": {},
   "outputs": [
    {
     "name": "stdout",
     "output_type": "stream",
     "text": [
      "Type: <class 'numpy.ndarray'>\n",
      "Datatype: int32\n",
      "Shape: (6,)\n",
      "Size: 6\n",
      "Item size: 4\n",
      "No. of Dimensions: 1\n",
      "No. of Dimensions: 2\n",
      "No. of bytes: 24\n"
     ]
    }
   ],
   "source": [
    "#understand attributes\n",
    "print(\"Type:\",type(arr2))\n",
    "print(\"Datatype:\",arr1.dtype)\n",
    "print(\"Shape:\",arr1.shape)\n",
    "print(\"Size:\",arr1.size)\n",
    "print(\"Item size:\", arr1.itemsize)\n",
    "print(\"No. of Dimensions:\", arr1.ndim)\n",
    "print(\"No. of Dimensions:\", arr2.ndim)\n",
    "print(\"No. of bytes:\", arr1.nbytes)"
   ]
  },
  {
   "cell_type": "code",
   "execution_count": 17,
   "metadata": {},
   "outputs": [
    {
     "name": "stdout",
     "output_type": "stream",
     "text": [
      "arr3 with zeroes:\n",
      " [[0 0]\n",
      " [0 0]\n",
      " [0 0]\n",
      " [0 0]\n",
      " [0 0]]\n",
      "arr4 with ones\n",
      " [[1. 1. 1. 1.]\n",
      " [1. 1. 1. 1.]\n",
      " [1. 1. 1. 1.]]\n",
      "arr5 Identity matrix:\n",
      " [[1. 0. 0. 0.]\n",
      " [0. 1. 0. 0.]\n",
      " [0. 0. 1. 0.]\n",
      " [0. 0. 0. 1.]]\n",
      "arr6 Random array:\n",
      " [[0.86139387 0.79237365]\n",
      " [0.11664318 0.4494292 ]\n",
      " [0.36555244 0.77991803]]\n",
      "arr7 Random Integer Array:\n",
      " [[4 6 3 6 4 5]\n",
      " [6 1 4 1 1 5]]\n"
     ]
    }
   ],
   "source": [
    "#Creating Special Arrays\n",
    "#Zeros\n",
    "arr3=np.zeros((5,2),dtype=int)\n",
    "print(\"arr3 with zeroes:\\n\",arr3)\n",
    "arr4=np.ones((3,4),dtype=float)\n",
    "print(\"arr4 with ones\\n\",arr4)\n",
    "arr5=np.eye(4,4)\n",
    "print(\"arr5 Identity matrix:\\n\",arr5)\n",
    "arr6=np.random.rand(3,2)\n",
    "print(\"arr6 Random array:\\n\",arr6)\n",
    "arr7=np.random.randint(7,size=(2,6))\n",
    "print(\"arr7 Random Integer Array:\\n\",arr7)\n"
   ]
  },
  {
   "cell_type": "code",
   "execution_count": 6,
   "metadata": {},
   "outputs": [
    {
     "name": "stdout",
     "output_type": "stream",
     "text": [
      "Array created with arange: [1 3 5 7 9]\n"
     ]
    }
   ],
   "source": [
    "#Creating Arrays with \"arange\"\n",
    "arr8=np.arange(1,10,2)\n",
    "print('Array created with arange:',arr8)"
   ]
  },
  {
   "cell_type": "code",
   "execution_count": 7,
   "metadata": {},
   "outputs": [
    {
     "name": "stdout",
     "output_type": "stream",
     "text": [
      "Array created with linspace requesting 50 elements within 1 to 10:\n",
      " [ 1.          1.18367347  1.36734694  1.55102041  1.73469388  1.91836735\n",
      "  2.10204082  2.28571429  2.46938776  2.65306122  2.83673469  3.02040816\n",
      "  3.20408163  3.3877551   3.57142857  3.75510204  3.93877551  4.12244898\n",
      "  4.30612245  4.48979592  4.67346939  4.85714286  5.04081633  5.2244898\n",
      "  5.40816327  5.59183673  5.7755102   5.95918367  6.14285714  6.32653061\n",
      "  6.51020408  6.69387755  6.87755102  7.06122449  7.24489796  7.42857143\n",
      "  7.6122449   7.79591837  7.97959184  8.16326531  8.34693878  8.53061224\n",
      "  8.71428571  8.89795918  9.08163265  9.26530612  9.44897959  9.63265306\n",
      "  9.81632653 10.        ]\n"
     ]
    }
   ],
   "source": [
    "#Creating Arrays with \"linspace\"\n",
    "arr9=np.linspace(1,10,50)\n",
    "print('Array created with linspace requesting 50 elements within 1 to 10:\\n',arr9)"
   ]
  },
  {
   "cell_type": "code",
   "execution_count": 8,
   "metadata": {},
   "outputs": [
    {
     "name": "stdout",
     "output_type": "stream",
     "text": [
      "[[ 1  2  3  4  5]\n",
      " [ 6  7  8  9 10]\n",
      " [11 12 13 14 15]\n",
      " [16 17 18 19 20]]\n",
      "Row2: [ 6  7  8  9 10]\n",
      "Column2: [ 2  7 12 17]\n",
      "Elements 7,8,12,13:\n",
      " [[ 7  8]\n",
      " [12 13]]\n",
      "All Elements:\n",
      " [[ 1  2  3  4  5]\n",
      " [ 6  7  8  9 10]\n",
      " [11 12 13 14 15]\n",
      " [16 17 18 19 20]]\n",
      "Strides:\n",
      " [[ 2  3]\n",
      " [12 13]]\n"
     ]
    }
   ],
   "source": [
    "#Slicing\n",
    "arr10=np.array([[1,2,3,4,5],[6,7,8,9,10],[11,12,13,14,15],[16,17,18,19,20]])\n",
    "print(arr10)\n",
    "print(\"Row2:\",arr10[1,:])\n",
    "print(\"Column2:\",arr10[:,1])\n",
    "print(\"Elements 7,8,12,13:\\n\",arr10[1:3,1:3])\n",
    "print(\"All Elements:\\n\",arr10[:,:])\n",
    "#Strides\n",
    "print(\"Strides:\\n\",arr10[0::2,1:3])"
   ]
  },
  {
   "cell_type": "code",
   "execution_count": 9,
   "metadata": {},
   "outputs": [
    {
     "name": "stdout",
     "output_type": "stream",
     "text": [
      "[1 2 2 1 2 1 2 1 1]\n"
     ]
    }
   ],
   "source": [
    "#Masking\n",
    "arr11=np.array([1,2,3,4,5,6,7,8,9,9])\n",
    "mask=np.array([0,1,1,0,1,0,1,0,0])\n",
    "b=arr11[mask]\n",
    "print(b)"
   ]
  },
  {
   "cell_type": "code",
   "execution_count": 10,
   "metadata": {},
   "outputs": [
    {
     "name": "stdout",
     "output_type": "stream",
     "text": [
      "[[1 2 3 4 5]\n",
      " [6 7 8 9 9]]\n",
      "Sum:\t 54\n",
      "Sum:\t [ 7  9 11 13 14]\n",
      "Product: \t 3265920\n",
      "Product: \t [ 6 14 24 36 45]\n",
      "Minimum:\t [1 2 3 4 5]\n",
      "Maximum:\t [6 7 8 9 9]\n",
      "Mean:\t [3.5 4.5 5.5 6.5 7. ]\n",
      "Variance:\t [6.25 6.25 6.25 6.25 4.  ]\n",
      "Standard Deviation:\t [2.5 2.5 2.5 2.5 2. ]\n",
      "Average:\t [3.5 4.5 5.5 6.5 7. ]\n",
      "Weighted Average:\t [3.66666667 8.33333333]\n"
     ]
    }
   ],
   "source": [
    "arr12=np.array([[1,2,3,4,5],[6,7,8,9,9]])\n",
    "print(arr12)\n",
    "print(\"Sum:\\t\",np.sum(arr12))\n",
    "print(\"Sum:\\t\", np.sum(arr12,axis=0))\n",
    "print(\"Product: \\t\",np.prod(arr12))\n",
    "print(\"Product: \\t\",np.prod(arr12,axis=0))\n",
    "print(\"Minimum:\\t\",np.min(arr12,axis=0))\n",
    "print(\"Maximum:\\t\",np.max(arr12,axis=0))\n",
    "print(\"Mean:\\t\",np.mean(arr12,axis=0))\n",
    "print(\"Variance:\\t\",np.var(arr12,axis=0))\n",
    "print(\"Standard Deviation:\\t\",np.std(arr12,axis=0))\n",
    "print(\"Average:\\t\",np.average(arr12,axis=0))\n",
    "print(\"Weighted Average:\\t\",np.average(arr12,weights=[1,2,3,4,5],axis=1))"
   ]
  },
  {
   "cell_type": "code",
   "execution_count": 11,
   "metadata": {},
   "outputs": [
    {
     "name": "stdout",
     "output_type": "stream",
     "text": [
      "Summation:\t [5 7 9]\n",
      "Difference:\t [-3 -3 -3]\n",
      "Previous output after adding 5: [2 2 2]\n"
     ]
    }
   ],
   "source": [
    "#Scalar Operations\n",
    "arr13=np.array([1,2,3])\n",
    "arr14=np.array([4,5,6])\n",
    "arr15=arr13+arr14\n",
    "arr16=arr13-arr14\n",
    "print(\"Summation:\\t\",arr15)\n",
    "print(\"Difference:\\t\",arr16)\n",
    "arr16+=5\n",
    "print(\"Previous output after adding 5:\",arr16)\n",
    "\n",
    "##Try out leftout scalar operations"
   ]
  },
  {
   "cell_type": "code",
   "execution_count": 12,
   "metadata": {},
   "outputs": [
    {
     "name": "stdout",
     "output_type": "stream",
     "text": [
      "[False False False]\n"
     ]
    }
   ],
   "source": [
    "#Relational operations\n",
    "result1=arr15==arr16\n",
    "print(result1)"
   ]
  },
  {
   "cell_type": "code",
   "execution_count": 13,
   "metadata": {},
   "outputs": [],
   "source": [
    "#Try Out other relational operators\n"
   ]
  },
  {
   "cell_type": "code",
   "execution_count": 14,
   "metadata": {},
   "outputs": [
    {
     "name": "stdout",
     "output_type": "stream",
     "text": [
      "Sin values:\t [ 0.65028784 -0.98803162  0.85090352  0.89399666]\n",
      "Log values:\t [2.7080502  3.40119738 3.80666249 4.49980967]\n"
     ]
    }
   ],
   "source": [
    "#Trigonometric and Logarithmic operations\n",
    "arr17=np.array([15,30,45,90])\n",
    "result7=np.sin(arr17)\n",
    "print(\"Sin values:\\t\",result7)\n",
    "result8=np.log(arr17)\n",
    "print(\"Log values:\\t\",result8)\n",
    "#Try other trignomatric functions"
   ]
  },
  {
   "cell_type": "code",
   "execution_count": 15,
   "metadata": {},
   "outputs": [],
   "source": [
    "#Vector operations\n",
    "#Try them on your own : Inner product, Outer Product, Dot Product"
   ]
  }
 ],
 "metadata": {
  "kernelspec": {
   "display_name": "Python 3",
   "language": "python",
   "name": "python3"
  },
  "language_info": {
   "codemirror_mode": {
    "name": "ipython",
    "version": 3
   },
   "file_extension": ".py",
   "mimetype": "text/x-python",
   "name": "python",
   "nbconvert_exporter": "python",
   "pygments_lexer": "ipython3",
   "version": "3.10.9"
  }
 },
 "nbformat": 4,
 "nbformat_minor": 2
}
