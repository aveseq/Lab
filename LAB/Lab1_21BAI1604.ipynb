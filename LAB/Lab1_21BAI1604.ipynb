{
 "cells": [
  {
   "cell_type": "markdown",
   "metadata": {},
   "source": [
    "# Lab1"
   ]
  },
  {
   "cell_type": "markdown",
   "metadata": {},
   "source": [
    "# Dhruv Karmokar 21BAI1604"
   ]
  },
  {
   "cell_type": "markdown",
   "metadata": {},
   "source": [
    "##### Importing Required Libraries:"
   ]
  },
  {
   "cell_type": "code",
   "execution_count": 2,
   "metadata": {},
   "outputs": [],
   "source": [
    "import numpy as np"
   ]
  },
  {
   "cell_type": "markdown",
   "metadata": {},
   "source": [
    "### 1.\tHow to create an empty and a full NumPy array?"
   ]
  },
  {
   "cell_type": "code",
   "execution_count": 4,
   "metadata": {},
   "outputs": [
    {
     "name": "stdout",
     "output_type": "stream",
     "text": [
      "Empty Array\n",
      "[[0 0 0 0]\n",
      " [0 0 0 0]\n",
      " [0 0 0 0]]\n",
      "\n",
      " Full Array\n",
      "[[64 64 64]\n",
      " [64 64 64]\n",
      " [64 64 64]]\n"
     ]
    }
   ],
   "source": [
    "# Create an empty array\n",
    "empa = np.empty((3, 4), dtype=int)\n",
    "print(\"Empty Array\")\n",
    "print(empa)\n",
    "  \n",
    "# Create a full array\n",
    "flla = np.full([3, 3], 64, dtype=int)\n",
    "print(\"\\n Full Array\")\n",
    "print(flla)"
   ]
  },
  {
   "cell_type": "markdown",
   "metadata": {},
   "source": [
    "### 2.\tCreate a Numpy array filled with all zeros"
   ]
  },
  {
   "cell_type": "code",
   "execution_count": 5,
   "metadata": {},
   "outputs": [
    {
     "name": "stdout",
     "output_type": "stream",
     "text": [
      "[0 0 0 0 0]\n"
     ]
    }
   ],
   "source": [
    "#The code creates a NumPy array of length 5 filled with zeros and of integer type, and then prints the array to the console.\n",
    "zeros_arr = np.zeros(5,int)\n",
    "print(zeros_arr)"
   ]
  },
  {
   "cell_type": "markdown",
   "metadata": {},
   "source": [
    "### 3.\tCreate a Numpy array filled with all ones"
   ]
  },
  {
   "cell_type": "code",
   "execution_count": 6,
   "metadata": {},
   "outputs": [
    {
     "name": "stdout",
     "output_type": "stream",
     "text": [
      "[1 1 1 1 1 1]\n"
     ]
    }
   ],
   "source": [
    "#The code creates a NumPy array of length 6 filled with ones and of integer type, and then prints the array to the console.\n",
    "ones_arr = np.ones(6,int)\n",
    "print(ones_arr)"
   ]
  },
  {
   "cell_type": "markdown",
   "metadata": {},
   "source": [
    "### 4.\tCheck whether a Numpy array contains a specified row"
   ]
  },
  {
   "cell_type": "code",
   "execution_count": 7,
   "metadata": {},
   "outputs": [
    {
     "name": "stdout",
     "output_type": "stream",
     "text": [
      "The row is present in the array\n"
     ]
    }
   ],
   "source": [
    "#Code checks if a given row exists in 2D NumPy array using Boolean indexing.\n",
    "arr = np.array([[1, 2, 3], [4, 5, 6], [7, 8, 9]])\n",
    "row_to_find = [4, 5, 6]\n",
    "\n",
    "if np.any(np.all(arr == row_to_find, axis=1)):\n",
    "    print(\"The row is present in the array\")\n",
    "else:\n",
    "    print(\"The row is not present in the array\")"
   ]
  },
  {
   "cell_type": "markdown",
   "metadata": {},
   "source": [
    "### 5.\tHow to Remove rows in Numpy array that contains non-numeric values?"
   ]
  },
  {
   "cell_type": "code",
   "execution_count": 8,
   "metadata": {},
   "outputs": [
    {
     "name": "stdout",
     "output_type": "stream",
     "text": [
      "[[1. 2. 3.]\n",
      " [7. 8. 9.]]\n"
     ]
    }
   ],
   "source": [
    "#Remove rows containing NaN values from 2D NumPy array arr.\n",
    "arr = np.array([[1, 2, 3],\n",
    "                [4, np.nan, 6],\n",
    "                [7, 8, 9],\n",
    "                [10, np.nan, np.nan]])\n",
    "\n",
    "nan_rows = np.isnan(arr).any(axis=1)\n",
    "clean_arr = arr[~nan_rows]\n",
    "print(clean_arr)"
   ]
  },
  {
   "cell_type": "markdown",
   "metadata": {},
   "source": [
    "### 6.\tRemove single-dimensional entries from the shape of an array"
   ]
  },
  {
   "cell_type": "code",
   "execution_count": 9,
   "metadata": {},
   "outputs": [
    {
     "name": "stdout",
     "output_type": "stream",
     "text": [
      "Original shape: (2, 1, 3)\n",
      "Squeezed shape: (2, 3)\n"
     ]
    }
   ],
   "source": [
    "#Code removes length-1 dimensions from a 3D NumPy array using np.squeeze().\n",
    "arr = np.array([[[1, 2, 3]],\n",
    "                [[4, 5, 6]]])\n",
    "\n",
    "print(\"Original shape:\", arr.shape)\n",
    "squeezed_arr = np.squeeze(arr)\n",
    "print(\"Squeezed shape:\", squeezed_arr.shape)"
   ]
  },
  {
   "cell_type": "markdown",
   "metadata": {},
   "source": [
    "### 7.\tFind the number of occurrences of a sequence in a NumPy array"
   ]
  },
  {
   "cell_type": "code",
   "execution_count": 10,
   "metadata": {},
   "outputs": [
    {
     "name": "stdout",
     "output_type": "stream",
     "text": [
      "3\n"
     ]
    }
   ],
   "source": [
    "#Count the number of occurrences of a given sequence in a NumPy array.\n",
    "arr = np.array([1, 2, 3, 4, 5, 1, 2, 3, 4, 5, 1, 2, 3])\n",
    "seq = \"1, 2, 3\"\n",
    "output = repr(arr).count(str(seq))\n",
    "print(output)"
   ]
  },
  {
   "cell_type": "markdown",
   "metadata": {},
   "source": [
    "### 8.\tFind the most frequent value in a NumPy array"
   ]
  },
  {
   "cell_type": "code",
   "execution_count": 11,
   "metadata": {},
   "outputs": [
    {
     "name": "stdout",
     "output_type": "stream",
     "text": [
      "Most frequent value: 1\n"
     ]
    }
   ],
   "source": [
    "#Find the most frequent value in a NumPy array.\n",
    "arr = np.array([1, 2, 3, 4, 5, 1, 2, 3, 1, 1])\n",
    "counts = np.bincount(arr.astype('int64'))\n",
    "most_frequent_value = np.argmax(counts)\n",
    "print(\"Most frequent value:\", most_frequent_value)"
   ]
  },
  {
   "cell_type": "markdown",
   "metadata": {},
   "source": [
    "### 9.\tCombining a one and a two-dimensional NumPy Array"
   ]
  },
  {
   "cell_type": "code",
   "execution_count": 12,
   "metadata": {},
   "outputs": [
    {
     "name": "stdout",
     "output_type": "stream",
     "text": [
      "[[10 20 30]\n",
      " [40 50 60]\n",
      " [70 80 90]]\n"
     ]
    }
   ],
   "source": [
    "#Code stacks two NumPy arrays vertically after reshaping the first one.\n",
    "arr12 = np.array([10, 20, 30])\n",
    "arr13 = np.array([[40, 50, 60], [70, 80, 90]])\n",
    "\n",
    "combined_arr = np.concatenate((arr12.reshape(1, -1), arr13), axis=0)\n",
    "\n",
    "print(combined_arr)"
   ]
  },
  {
   "cell_type": "markdown",
   "metadata": {},
   "source": [
    "### 10.\tHow to build an array of all combinations of two NumPy arrays?"
   ]
  },
  {
   "cell_type": "code",
   "execution_count": 13,
   "metadata": {},
   "outputs": [
    {
     "name": "stdout",
     "output_type": "stream",
     "text": [
      "Array-1\n",
      "[1 2]\n",
      "\n",
      "Array-2\n",
      "[4 6]\n",
      "\n",
      "Combine array:\n",
      "[[1 4]\n",
      " [1 6]\n",
      " [2 4]\n",
      " [2 6]]\n"
     ]
    }
   ],
   "source": [
    "#Create a new 2D NumPy array from all possible combinations of elements from two input arrays.\n",
    "array_1 = np.array([1, 2])\n",
    "array_2 = np.array([4, 6])\n",
    "print(\"Array-1\")\n",
    "print(array_1)\n",
    "print(\"\\nArray-2\")\n",
    "print(array_2)\n",
    "comb_array = np.array(np.meshgrid(array_1, array_2)).T.reshape(-1, 2)\n",
    "print(\"\\nCombine array:\")\n",
    "print(comb_array)"
   ]
  }
 ],
 "metadata": {
  "kernelspec": {
   "display_name": "Python 3 (ipykernel)",
   "language": "python",
   "name": "python3"
  },
  "language_info": {
   "codemirror_mode": {
    "name": "ipython",
    "version": 3
   },
   "file_extension": ".py",
   "mimetype": "text/x-python",
   "name": "python",
   "nbconvert_exporter": "python",
   "pygments_lexer": "ipython3",
   "version": "3.9.13"
  }
 },
 "nbformat": 4,
 "nbformat_minor": 2
}
