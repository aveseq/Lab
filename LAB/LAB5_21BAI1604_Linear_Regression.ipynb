{
  "cells": [
    {
      "cell_type": "markdown",
      "source": [
        "# **Dhruv Karmokar**\n",
        "# **21BAI1604**"
      ],
      "metadata": {
        "id": "9w9tJFRRmwcO"
      }
    },
    {
      "cell_type": "markdown",
      "metadata": {
        "id": "ds6ktFzM8sW9"
      },
      "source": [
        "# Simple Linear Regression"
      ]
    },
    {
      "cell_type": "markdown",
      "metadata": {
        "id": "MDsrsCkt8sXA"
      },
      "source": [
        "# Importing Packages"
      ]
    },
    {
      "cell_type": "code",
      "execution_count": 2,
      "metadata": {
        "id": "SvJkgY5p8sXB"
      },
      "outputs": [],
      "source": [
        "import matplotlib.pyplot as plt\n",
        "import numpy as np\n",
        "import pandas as pd\n",
        "%matplotlib inline"
      ]
    },
    {
      "cell_type": "markdown",
      "metadata": {
        "id": "yFaMiVKJ8sXC"
      },
      "source": [
        "# Create our own data"
      ]
    },
    {
      "cell_type": "code",
      "execution_count": 11,
      "metadata": {
        "colab": {
          "base_uri": "https://localhost:8080/",
          "height": 677
        },
        "id": "SeCtqosf8sXE",
        "outputId": "7aaac95f-4a8e-427e-c6c3-4e047637865d"
      },
      "outputs": [
        {
          "output_type": "execute_result",
          "data": {
            "text/plain": [
              "    Time  Speed\n",
              "0      0    150\n",
              "1      1    154\n",
              "2      2    162\n",
              "3      3    178\n",
              "4      4    165\n",
              "5      5    169\n",
              "6      6    172\n",
              "7      7    177\n",
              "8      8    185\n",
              "9      9    198\n",
              "10    10    175\n",
              "11    11    180\n",
              "12    12    182\n",
              "13    13    185\n",
              "14    14    188\n",
              "15    15    175\n",
              "16    16    190\n",
              "17    17    193\n",
              "18    18    195\n",
              "19    19    199"
            ],
            "text/html": [
              "\n",
              "  <div id=\"df-4c5ac283-46aa-496e-8da9-7a0f1c18922d\">\n",
              "    <div class=\"colab-df-container\">\n",
              "      <div>\n",
              "<style scoped>\n",
              "    .dataframe tbody tr th:only-of-type {\n",
              "        vertical-align: middle;\n",
              "    }\n",
              "\n",
              "    .dataframe tbody tr th {\n",
              "        vertical-align: top;\n",
              "    }\n",
              "\n",
              "    .dataframe thead th {\n",
              "        text-align: right;\n",
              "    }\n",
              "</style>\n",
              "<table border=\"1\" class=\"dataframe\">\n",
              "  <thead>\n",
              "    <tr style=\"text-align: right;\">\n",
              "      <th></th>\n",
              "      <th>Time</th>\n",
              "      <th>Speed</th>\n",
              "    </tr>\n",
              "  </thead>\n",
              "  <tbody>\n",
              "    <tr>\n",
              "      <th>0</th>\n",
              "      <td>0</td>\n",
              "      <td>150</td>\n",
              "    </tr>\n",
              "    <tr>\n",
              "      <th>1</th>\n",
              "      <td>1</td>\n",
              "      <td>154</td>\n",
              "    </tr>\n",
              "    <tr>\n",
              "      <th>2</th>\n",
              "      <td>2</td>\n",
              "      <td>162</td>\n",
              "    </tr>\n",
              "    <tr>\n",
              "      <th>3</th>\n",
              "      <td>3</td>\n",
              "      <td>178</td>\n",
              "    </tr>\n",
              "    <tr>\n",
              "      <th>4</th>\n",
              "      <td>4</td>\n",
              "      <td>165</td>\n",
              "    </tr>\n",
              "    <tr>\n",
              "      <th>5</th>\n",
              "      <td>5</td>\n",
              "      <td>169</td>\n",
              "    </tr>\n",
              "    <tr>\n",
              "      <th>6</th>\n",
              "      <td>6</td>\n",
              "      <td>172</td>\n",
              "    </tr>\n",
              "    <tr>\n",
              "      <th>7</th>\n",
              "      <td>7</td>\n",
              "      <td>177</td>\n",
              "    </tr>\n",
              "    <tr>\n",
              "      <th>8</th>\n",
              "      <td>8</td>\n",
              "      <td>185</td>\n",
              "    </tr>\n",
              "    <tr>\n",
              "      <th>9</th>\n",
              "      <td>9</td>\n",
              "      <td>198</td>\n",
              "    </tr>\n",
              "    <tr>\n",
              "      <th>10</th>\n",
              "      <td>10</td>\n",
              "      <td>175</td>\n",
              "    </tr>\n",
              "    <tr>\n",
              "      <th>11</th>\n",
              "      <td>11</td>\n",
              "      <td>180</td>\n",
              "    </tr>\n",
              "    <tr>\n",
              "      <th>12</th>\n",
              "      <td>12</td>\n",
              "      <td>182</td>\n",
              "    </tr>\n",
              "    <tr>\n",
              "      <th>13</th>\n",
              "      <td>13</td>\n",
              "      <td>185</td>\n",
              "    </tr>\n",
              "    <tr>\n",
              "      <th>14</th>\n",
              "      <td>14</td>\n",
              "      <td>188</td>\n",
              "    </tr>\n",
              "    <tr>\n",
              "      <th>15</th>\n",
              "      <td>15</td>\n",
              "      <td>175</td>\n",
              "    </tr>\n",
              "    <tr>\n",
              "      <th>16</th>\n",
              "      <td>16</td>\n",
              "      <td>190</td>\n",
              "    </tr>\n",
              "    <tr>\n",
              "      <th>17</th>\n",
              "      <td>17</td>\n",
              "      <td>193</td>\n",
              "    </tr>\n",
              "    <tr>\n",
              "      <th>18</th>\n",
              "      <td>18</td>\n",
              "      <td>195</td>\n",
              "    </tr>\n",
              "    <tr>\n",
              "      <th>19</th>\n",
              "      <td>19</td>\n",
              "      <td>199</td>\n",
              "    </tr>\n",
              "  </tbody>\n",
              "</table>\n",
              "</div>\n",
              "      <button class=\"colab-df-convert\" onclick=\"convertToInteractive('df-4c5ac283-46aa-496e-8da9-7a0f1c18922d')\"\n",
              "              title=\"Convert this dataframe to an interactive table.\"\n",
              "              style=\"display:none;\">\n",
              "        \n",
              "  <svg xmlns=\"http://www.w3.org/2000/svg\" height=\"24px\"viewBox=\"0 0 24 24\"\n",
              "       width=\"24px\">\n",
              "    <path d=\"M0 0h24v24H0V0z\" fill=\"none\"/>\n",
              "    <path d=\"M18.56 5.44l.94 2.06.94-2.06 2.06-.94-2.06-.94-.94-2.06-.94 2.06-2.06.94zm-11 1L8.5 8.5l.94-2.06 2.06-.94-2.06-.94L8.5 2.5l-.94 2.06-2.06.94zm10 10l.94 2.06.94-2.06 2.06-.94-2.06-.94-.94-2.06-.94 2.06-2.06.94z\"/><path d=\"M17.41 7.96l-1.37-1.37c-.4-.4-.92-.59-1.43-.59-.52 0-1.04.2-1.43.59L10.3 9.45l-7.72 7.72c-.78.78-.78 2.05 0 2.83L4 21.41c.39.39.9.59 1.41.59.51 0 1.02-.2 1.41-.59l7.78-7.78 2.81-2.81c.8-.78.8-2.07 0-2.86zM5.41 20L4 18.59l7.72-7.72 1.47 1.35L5.41 20z\"/>\n",
              "  </svg>\n",
              "      </button>\n",
              "      \n",
              "  <style>\n",
              "    .colab-df-container {\n",
              "      display:flex;\n",
              "      flex-wrap:wrap;\n",
              "      gap: 12px;\n",
              "    }\n",
              "\n",
              "    .colab-df-convert {\n",
              "      background-color: #E8F0FE;\n",
              "      border: none;\n",
              "      border-radius: 50%;\n",
              "      cursor: pointer;\n",
              "      display: none;\n",
              "      fill: #1967D2;\n",
              "      height: 32px;\n",
              "      padding: 0 0 0 0;\n",
              "      width: 32px;\n",
              "    }\n",
              "\n",
              "    .colab-df-convert:hover {\n",
              "      background-color: #E2EBFA;\n",
              "      box-shadow: 0px 1px 2px rgba(60, 64, 67, 0.3), 0px 1px 3px 1px rgba(60, 64, 67, 0.15);\n",
              "      fill: #174EA6;\n",
              "    }\n",
              "\n",
              "    [theme=dark] .colab-df-convert {\n",
              "      background-color: #3B4455;\n",
              "      fill: #D2E3FC;\n",
              "    }\n",
              "\n",
              "    [theme=dark] .colab-df-convert:hover {\n",
              "      background-color: #434B5C;\n",
              "      box-shadow: 0px 1px 3px 1px rgba(0, 0, 0, 0.15);\n",
              "      filter: drop-shadow(0px 1px 2px rgba(0, 0, 0, 0.3));\n",
              "      fill: #FFFFFF;\n",
              "    }\n",
              "  </style>\n",
              "\n",
              "      <script>\n",
              "        const buttonEl =\n",
              "          document.querySelector('#df-4c5ac283-46aa-496e-8da9-7a0f1c18922d button.colab-df-convert');\n",
              "        buttonEl.style.display =\n",
              "          google.colab.kernel.accessAllowed ? 'block' : 'none';\n",
              "\n",
              "        async function convertToInteractive(key) {\n",
              "          const element = document.querySelector('#df-4c5ac283-46aa-496e-8da9-7a0f1c18922d');\n",
              "          const dataTable =\n",
              "            await google.colab.kernel.invokeFunction('convertToInteractive',\n",
              "                                                     [key], {});\n",
              "          if (!dataTable) return;\n",
              "\n",
              "          const docLinkHtml = 'Like what you see? Visit the ' +\n",
              "            '<a target=\"_blank\" href=https://colab.research.google.com/notebooks/data_table.ipynb>data table notebook</a>'\n",
              "            + ' to learn more about interactive tables.';\n",
              "          element.innerHTML = '';\n",
              "          dataTable['output_type'] = 'display_data';\n",
              "          await google.colab.output.renderOutput(dataTable, element);\n",
              "          const docLink = document.createElement('div');\n",
              "          docLink.innerHTML = docLinkHtml;\n",
              "          element.appendChild(docLink);\n",
              "        }\n",
              "      </script>\n",
              "    </div>\n",
              "  </div>\n",
              "  "
            ]
          },
          "metadata": {},
          "execution_count": 11
        }
      ],
      "source": [
        "datafile = pd.DataFrame()\n",
        "datafile[0] = np.arange(0, 20)\n",
        "datafile[1] = [150, 154, 162, 178, 165, 169, 172, 177, 185, 198, 175, 180, 182, 185, 188, 175, 190, 193, 195, 199]\n",
        "datafile.columns=['Time','Speed']\n",
        "datafile"
      ]
    },
    {
      "cell_type": "markdown",
      "metadata": {
        "id": "sAqEhocS8sXF"
      },
      "source": [
        "# Checking linearity"
      ]
    },
    {
      "cell_type": "code",
      "execution_count": 15,
      "metadata": {
        "colab": {
          "base_uri": "https://localhost:8080/",
          "height": 472
        },
        "id": "63-2jCpq8sXG",
        "outputId": "538d03bb-fbc9-434e-ecc2-9b62b9852d54"
      },
      "outputs": [
        {
          "output_type": "display_data",
          "data": {
            "text/plain": [
              "<Figure size 640x480 with 1 Axes>"
            ],
            "image/png": "[encoded data removed]"
          },
          "metadata": {}
        }
      ],
      "source": [
        "plt.scatter(datafile['Time'], datafile['Speed'])\n",
        "plt.title(\"Speed Plot\")\n",
        "plt.xlim(0, 20)\n",
        "plt.ylim(140, 210)\n",
        "plt.xticks(np.arange(0, 21, 2))\n",
        "plt.xlabel(\"Time\")\n",
        "plt.ylabel(\"Speed\")\n",
        "plt.show()"
      ]
    },
    {
      "cell_type": "code",
      "execution_count": 16,
      "metadata": {
        "colab": {
          "base_uri": "https://localhost:8080/",
          "height": 452
        },
        "id": "CGDiSFT28sXH",
        "outputId": "416e9979-523c-4ffb-c2e9-2d1f43a87afb"
      },
      "outputs": [
        {
          "output_type": "execute_result",
          "data": {
            "text/plain": [
              "<Axes: >"
            ]
          },
          "metadata": {},
          "execution_count": 16
        },
        {
          "output_type": "display_data",
          "data": {
            "text/plain": [
              "<Figure size 640x480 with 2 Axes>"
            ],
            "image/png": "[encoded data removed]"
          },
          "metadata": {}
        }
      ],
      "source": [
        "import seaborn as sb\n",
        "data_corr=datafile.corr()\n",
        "sb.heatmap(data_corr,annot=True)"
      ]
    },
    {
      "cell_type": "code",
      "execution_count": 18,
      "metadata": {
        "colab": {
          "base_uri": "https://localhost:8080/"
        },
        "id": "OIPnulGQ8sXI",
        "outputId": "06d15964-649f-4a26-d414-40e21e0ac505"
      },
      "outputs": [
        {
          "output_type": "stream",
          "name": "stdout",
          "text": [
            "Coefficients: [[1.96090226]]\n",
            "Intercept: [159.97142857]\n"
          ]
        }
      ],
      "source": [
        "from sklearn import linear_model\n",
        "regress=linear_model.LinearRegression()\n",
        "train_x=np.asanyarray(datafile[['Time']])\n",
        "train_y=np.asanyarray(datafile[['Speed']])\n",
        "#print(train_x)\n",
        "#print(train_y)\n",
        "regress.fit(train_x,train_y)\n",
        "#The coefficients\n",
        "print('Coefficients:',regress.coef_)\n",
        "print('Intercept:',regress.intercept_)\n"
      ]
    },
    {
      "cell_type": "markdown",
      "metadata": {
        "id": "cQIQv9xc8sXK"
      },
      "source": [
        "# Plotoutputs"
      ]
    },
    {
      "cell_type": "code",
      "execution_count": 20,
      "metadata": {
        "colab": {
          "base_uri": "https://localhost:8080/",
          "height": 472
        },
        "id": "8a5c-b5X8sXL",
        "outputId": "d27678ec-6dcf-4131-fe15-0c3e3e42c2af"
      },
      "outputs": [
        {
          "output_type": "display_data",
          "data": {
            "text/plain": [
              "<Figure size 640x480 with 1 Axes>"
            ],
            "image/png": "[encoded data removed]"
          },
          "metadata": {}
        }
      ],
      "source": [
        "plt.scatter(datafile.Time, datafile.Speed, color='blue', label=\"Actual\")\n",
        "plt.plot(train_x, regress.coef_[0] * train_x + regress.intercept_, '-r', label=\"Predicted\")\n",
        "plt.title(\"Speed Plot\")\n",
        "plt.xlim(0, 20)\n",
        "plt.ylim(140, 210)\n",
        "plt.xticks(np.arange(0, 21, 2))\n",
        "plt.legend()\n",
        "plt.xlabel(\"Time\")\n",
        "plt.ylabel(\"Speed\")\n",
        "plt.show()"
      ]
    },
    {
      "cell_type": "code",
      "execution_count": 24,
      "metadata": {
        "colab": {
          "base_uri": "https://localhost:8080/"
        },
        "id": "uHat_i9c8sXN",
        "outputId": "bde99d83-467b-49e7-bb66-3e248a297469"
      },
      "outputs": [
        {
          "output_type": "stream",
          "name": "stdout",
          "text": [
            "[150] [159.97142857]\n",
            "[154] [161.93233083]\n",
            "[162] [163.89323308]\n",
            "[178] [165.85413534]\n",
            "[165] [167.81503759]\n",
            "[169] [169.77593985]\n",
            "[172] [171.73684211]\n",
            "[177] [173.69774436]\n",
            "[185] [175.65864662]\n",
            "[198] [177.61954887]\n",
            "[175] [179.58045113]\n",
            "[180] [181.54135338]\n",
            "[182] [183.50225564]\n",
            "[185] [185.46315789]\n",
            "[188] [187.42406015]\n",
            "[175] [189.38496241]\n",
            "[190] [191.34586466]\n",
            "[193] [193.30676692]\n",
            "[195] [195.26766917]\n",
            "[199] [197.22857143]\n",
            "   Time  Speed   Predicted\n",
            "0     0    150  159.971429\n",
            "1     1    154  161.932331\n",
            "2     2    162  163.893233\n",
            "3     3    178  165.854135\n",
            "4     4    165  167.815038\n"
          ]
        }
      ],
      "source": [
        "y_predicted = regress.predict(train_x)\n",
        "\n",
        "for i in range(len(train_x)):\n",
        "    print(train_y[i], y_predicted[i])\n",
        "\n",
        "datafile['Predicted'] = y_predicted\n",
        "\n",
        "print(datafile.head())\n",
        "\n",
        "datafile.to_csv('/content/Speed.csv', index=False)\n"
      ]
    },
    {
      "cell_type": "markdown",
      "metadata": {
        "id": "7AYMsHnc8sXN"
      },
      "source": [
        "# Performance Measurement"
      ]
    },
    {
      "cell_type": "markdown",
      "metadata": {
        "id": "WKgvuiLl8sXN"
      },
      "source": [
        "# Any of the following metrics can be used\n",
        "1) Mean Absolute error\n",
        "2) Mean Squared error\n",
        "3) Root Mean Squared error\n",
        "4) R-Square (not error)"
      ]
    },
    {
      "cell_type": "code",
      "execution_count": 25,
      "metadata": {
        "colab": {
          "base_uri": "https://localhost:8080/"
        },
        "id": "2JHE2g6l8sXN",
        "outputId": "89ba2f31-44fa-4ceb-b594-bb6a447a59a1"
      },
      "outputs": [
        {
          "output_type": "stream",
          "name": "stdout",
          "text": [
            "Mean Absolute error  4.778045112781953\n",
            "Mean Squared error  53.68917293233083\n",
            "Root Mean Squared error  7.327289603416179\n"
          ]
        }
      ],
      "source": [
        "from sklearn import metrics\n",
        "print('Mean Absolute error ', metrics.mean_absolute_error(train_y,y_predicted))\n",
        "print('Mean Squared error ', metrics.mean_squared_error(train_y,y_predicted))\n",
        "print('Root Mean Squared error ', np.sqrt(metrics.mean_squared_error(train_y,y_predicted)))"
      ]
    },
    {
      "cell_type": "code",
      "execution_count": 26,
      "metadata": {
        "colab": {
          "base_uri": "https://localhost:8080/"
        },
        "id": "eDyz2Ale8sXP",
        "outputId": "145e8df4-c2f4-4de9-c08c-9236cc4a5442"
      },
      "outputs": [
        {
          "output_type": "stream",
          "name": "stdout",
          "text": [
            "Mean Absolute error (MAE) 4.778045112781953\n",
            "Mean Squared error (MSE) 3.231174267785265e-29\n",
            "R2 score:%0.2f  0.7042570621773117\n"
          ]
        }
      ],
      "source": [
        "from sklearn.metrics import r2_score\n",
        "test_x=np.asanyarray(datafile[['Time']])\n",
        "test_y=np.asanyarray(datafile[['Speed']])\n",
        "test_y_predicted=regress.predict(test_x)\n",
        "print('Mean Absolute error (MAE)', np.mean(np.absolute(test_y_predicted-test_y)))\n",
        "print('Mean Squared error (MSE)', np.mean(test_y_predicted-test_y)**2)\n",
        "print('R2 score:%0.2f ', r2_score(test_y,test_y_predicted))\n"
      ]
    },
    {
      "cell_type": "markdown",
      "metadata": {
        "id": "E9CEH1aX8sXQ"
      },
      "source": [
        "# Using Training and Testing Data"
      ]
    },
    {
      "cell_type": "code",
      "execution_count": 27,
      "metadata": {
        "colab": {
          "base_uri": "https://localhost:8080/"
        },
        "id": "ick5Wytg8sXQ",
        "outputId": "b2a6aa9a-49c7-4804-d163-bb40bbb2e1f3"
      },
      "outputs": [
        {
          "output_type": "stream",
          "name": "stdout",
          "text": [
            "    Time\n",
            "10    10\n",
            "0      0\n",
            "19    19\n",
            "2      2\n",
            "6      6\n",
            "7      7\n",
            "15    15\n",
            "12    12\n",
            "14    14\n",
            "17    17\n",
            "16    16\n",
            "3      3\n",
            "13    13\n",
            "5      5\n",
            "Testing\n",
            "    Time\n",
            "11    11\n",
            "18    18\n",
            "4      4\n",
            "9      9\n",
            "1      1\n",
            "8      8\n",
            "Coefficients: [[1.86407336]]\n",
            "Intercept: [159.70670019]\n"
          ]
        }
      ],
      "source": [
        "from sklearn.model_selection import train_test_split\n",
        "train_x,test_x,train_y,test_y=train_test_split(datafile[['Time']],datafile[['Speed']],test_size=0.30)\n",
        "print(train_x)\n",
        "print(\"Testing\")\n",
        "print(test_x)\n",
        "\n",
        "from sklearn import linear_model\n",
        "regress=linear_model.LinearRegression()\n",
        "regress.fit(train_x,train_y)\n",
        "#The coefficients\n",
        "print('Coefficients:',regress.coef_)\n",
        "print('Intercept:',regress.intercept_)\n",
        "\n"
      ]
    },
    {
      "cell_type": "code",
      "execution_count": 28,
      "metadata": {
        "colab": {
          "base_uri": "https://localhost:8080/"
        },
        "id": "qW4d13d18sXR",
        "outputId": "462ec1fa-8d39-4e72-e215-316879c459f7"
      },
      "outputs": [
        {
          "output_type": "stream",
          "name": "stdout",
          "text": [
            "    Time\n",
            "11    11\n",
            "18    18\n",
            "4      4\n",
            "9      9\n",
            "1      1\n",
            "8      8\n",
            "    Speed\n",
            "11    180\n",
            "18    195\n",
            "4     165\n",
            "9     198\n",
            "1     154\n",
            "8     185\n",
            "[[180.21150717]\n",
            " [193.26002071]\n",
            " [167.16299364]\n",
            " [176.48336045]\n",
            " [161.57077355]\n",
            " [174.61928709]]\n"
          ]
        }
      ],
      "source": [
        "y_predicted=regress.predict(test_x)\n",
        "print(test_x)\n",
        "print(test_y)\n",
        "print(y_predicted)\n"
      ]
    },
    {
      "cell_type": "code",
      "execution_count": 29,
      "metadata": {
        "colab": {
          "base_uri": "https://localhost:8080/"
        },
        "id": "-wjfn53Y8sXR",
        "outputId": "1ab06091-bb6b-4165-873c-5cb415b78ffb"
      },
      "outputs": [
        {
          "output_type": "stream",
          "name": "stdout",
          "text": [
            "Mean Absolute error  7.263767687225761\n",
            "Mean Squared error  105.96539917131626\n",
            "Root Mean Squared error  10.293949639050906\n"
          ]
        }
      ],
      "source": [
        "from sklearn import metrics\n",
        "print('Mean Absolute error ', metrics.mean_absolute_error(test_y,y_predicted))\n",
        "print('Mean Squared error ', metrics.mean_squared_error(test_y,y_predicted))\n",
        "print('Root Mean Squared error ', np.sqrt(metrics.mean_squared_error(test_y,y_predicted)))\n"
      ]
    },
    {
      "cell_type": "code",
      "execution_count": 31,
      "metadata": {
        "colab": {
          "base_uri": "https://localhost:8080/"
        },
        "id": "vh5TP_EW8sXR",
        "outputId": "f83ae855-5d53-4dd4-92ca-70186e5e3338"
      },
      "outputs": [
        {
          "output_type": "stream",
          "name": "stdout",
          "text": [
            "[ 0.01391869  0.74117645 -1.07107932 -2.08860899  0.87818299]\n"
          ]
        }
      ],
      "source": [
        "from sklearn.model_selection import cross_val_score\n",
        "accuracy=cross_val_score(regress,datafile[['Time']],datafile[['Speed']],cv=5,scoring='r2')\n",
        "print(accuracy)"
      ]
    }
  ],
  "metadata": {
    "kernelspec": {
      "display_name": "Python 3 (ipykernel)",
      "language": "python",
      "name": "python3"
    },
    "language_info": {
      "codemirror_mode": {
        "name": "ipython",
        "version": 3
      },
      "file_extension": ".py",
      "mimetype": "text/x-python",
      "name": "python",
      "nbconvert_exporter": "python",
      "pygments_lexer": "ipython3",
      "version": "3.9.13"
    },
    "colab": {
      "provenance": []
    }
  },
  "nbformat": 4,
  "nbformat_minor": 0
}