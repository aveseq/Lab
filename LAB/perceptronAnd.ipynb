{
  "nbformat": 4,
  "nbformat_minor": 0,
  "metadata": {
    "colab": {
      "provenance": []
    },
    "kernelspec": {
      "name": "python3",
      "display_name": "Python 3"
    },
    "language_info": {
      "name": "python"
    }
  },
  "cells": [
    {
      "cell_type": "code",
      "execution_count": null,
      "metadata": {
        "id": "aG8FhK53yWEK"
      },
      "outputs": [],
      "source": [
        "import numpy as np"
      ]
    },
    {
      "cell_type": "code",
      "source": [
        "def unit(v):\n",
        "  if v>=0:\n",
        "    return 1\n",
        "  else:\n",
        "    return 0\n"
      ],
      "metadata": {
        "id": "z0FVyRhFyaq0"
      },
      "execution_count": null,
      "outputs": []
    },
    {
      "cell_type": "code",
      "source": [
        "def perceptronModel(x,w,b):\n",
        "  v=np.dot(w,x)+b\n",
        "  y=unit(v)\n",
        "  return y"
      ],
      "metadata": {
        "id": "HtHoZPNlzCxF"
      },
      "execution_count": null,
      "outputs": []
    },
    {
      "cell_type": "code",
      "source": [
        "def andLogic(x):\n",
        "  w=np.array([0.4,0.6])\n",
        "  b=-1.5\n",
        "  return perceptronModel(x,w,b)"
      ],
      "metadata": {
        "id": "VZzPls4fzqKj"
      },
      "execution_count": null,
      "outputs": []
    },
    {
      "cell_type": "code",
      "source": [
        "t1=np.array([0,0])\n",
        "t2=np.array([0,1])\n",
        "t3=np.array([1,0])\n",
        "t4=np.array([1,1])"
      ],
      "metadata": {
        "id": "-aGAfmwrzydT"
      },
      "execution_count": null,
      "outputs": []
    },
    {
      "cell_type": "code",
      "source": [
        "\n",
        "print(\"AND({}, {}) = {}\".format(0, 0, andLogic(t1)))\n",
        "print(\"AND({}, {}) = {}\".format(0, 1, andLogic(t2)))\n",
        "print(\"AND({}, {}) = {}\".format(1, 0, andLogic(t3)))\n",
        "print(\"AND({}, {}) = {}\".format(1, 1, andLogic(t4)))"
      ],
      "metadata": {
        "colab": {
          "base_uri": "https://localhost:8080/"
        },
        "id": "h8-zlnzb0Yuz",
        "outputId": "02236227-8d10-4f13-8b4c-d5e31a158a5a"
      },
      "execution_count": null,
      "outputs": [
        {
          "output_type": "stream",
          "name": "stdout",
          "text": [
            "AND(0, 0) = 0\n",
            "AND(0, 1) = 0\n",
            "AND(1, 0) = 0\n",
            "AND(1, 1) = 0\n"
          ]
        }
      ]
    },
    {
      "cell_type": "code",
      "source": [
        "import numpy as np\n",
        "\n",
        "# Define the AND perceptron function\n",
        "def and_perceptron(x):\n",
        "    # Define the weights and bias\n",
        "    weights = np.array([1, 1])  # weights for inputs\n",
        "    bias = -1.5  # bias term\n",
        "\n",
        "    # Calculate the weighted sum\n",
        "    weighted_sum = np.dot(x, weights) + bias\n",
        "\n",
        "    # Apply the activation function (step function)\n",
        "    if weighted_sum <= 0:\n",
        "        return 0\n",
        "    else:\n",
        "        return 1\n",
        "\n",
        "# Test the AND perceptron\n",
        "test_inputs = np.array([[0, 0], [0, 1], [1, 0], [1, 1]])\n",
        "for input in test_inputs:\n",
        "    output = and_perceptron(input)\n",
        "    print(f\"Input: {input} Output: {output}\")"
      ],
      "metadata": {
        "id": "fVGTk6mj7uY9",
        "outputId": "656855f9-c127-47cb-d2f2-9c3fe9b4511d",
        "colab": {
          "base_uri": "https://localhost:8080/"
        }
      },
      "execution_count": null,
      "outputs": [
        {
          "output_type": "stream",
          "name": "stdout",
          "text": [
            "Input: [0 0] Output: 0\n",
            "Input: [0 1] Output: 0\n",
            "Input: [1 0] Output: 0\n",
            "Input: [1 1] Output: 1\n"
          ]
        }
      ]
    }
  ]
}