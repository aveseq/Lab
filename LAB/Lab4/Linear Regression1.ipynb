{
 "cells": [
  {
   "cell_type": "markdown",
   "metadata": {},
   "source": [
    "# Simple Linear Regression"
   ]
  },
  {
   "cell_type": "markdown",
   "metadata": {},
   "source": [
    "# Importing Packages"
   ]
  },
  {
   "cell_type": "code",
   "execution_count": 2,
   "metadata": {},
   "outputs": [],
   "source": [
    "import matplotlib.pyplot as plt\n",
    "import numpy as np\n",
    "import pandas as pd\n",
    "%matplotlib inline"
   ]
  },
  {
   "cell_type": "markdown",
   "metadata": {},
   "source": [
    "# Create our own data"
   ]
  },
  {
   "cell_type": "code",
   "execution_count": 22,
   "metadata": {},
   "outputs": [
    {
     "data": {
      "text/html": [
       "<div>\n",
       "<style scoped>\n",
       "    .dataframe tbody tr th:only-of-type {\n",
       "        vertical-align: middle;\n",
       "    }\n",
       "\n",
       "    .dataframe tbody tr th {\n",
       "        vertical-align: top;\n",
       "    }\n",
       "\n",
       "    .dataframe thead th {\n",
       "        text-align: right;\n",
       "    }\n",
       "</style>\n",
       "<table border=\"1\" class=\"dataframe\">\n",
       "  <thead>\n",
       "    <tr style=\"text-align: right;\">\n",
       "      <th></th>\n",
       "      <th>Year</th>\n",
       "      <th>Placement</th>\n",
       "    </tr>\n",
       "  </thead>\n",
       "  <tbody>\n",
       "    <tr>\n",
       "      <th>0</th>\n",
       "      <td>2000</td>\n",
       "      <td>50</td>\n",
       "    </tr>\n",
       "    <tr>\n",
       "      <th>1</th>\n",
       "      <td>2001</td>\n",
       "      <td>54</td>\n",
       "    </tr>\n",
       "    <tr>\n",
       "      <th>2</th>\n",
       "      <td>2002</td>\n",
       "      <td>62</td>\n",
       "    </tr>\n",
       "    <tr>\n",
       "      <th>3</th>\n",
       "      <td>2003</td>\n",
       "      <td>78</td>\n",
       "    </tr>\n",
       "    <tr>\n",
       "      <th>4</th>\n",
       "      <td>2004</td>\n",
       "      <td>65</td>\n",
       "    </tr>\n",
       "    <tr>\n",
       "      <th>5</th>\n",
       "      <td>2005</td>\n",
       "      <td>69</td>\n",
       "    </tr>\n",
       "    <tr>\n",
       "      <th>6</th>\n",
       "      <td>2006</td>\n",
       "      <td>72</td>\n",
       "    </tr>\n",
       "    <tr>\n",
       "      <th>7</th>\n",
       "      <td>2007</td>\n",
       "      <td>77</td>\n",
       "    </tr>\n",
       "    <tr>\n",
       "      <th>8</th>\n",
       "      <td>2008</td>\n",
       "      <td>85</td>\n",
       "    </tr>\n",
       "    <tr>\n",
       "      <th>9</th>\n",
       "      <td>2009</td>\n",
       "      <td>98</td>\n",
       "    </tr>\n",
       "    <tr>\n",
       "      <th>10</th>\n",
       "      <td>2010</td>\n",
       "      <td>75</td>\n",
       "    </tr>\n",
       "    <tr>\n",
       "      <th>11</th>\n",
       "      <td>2011</td>\n",
       "      <td>80</td>\n",
       "    </tr>\n",
       "    <tr>\n",
       "      <th>12</th>\n",
       "      <td>2012</td>\n",
       "      <td>82</td>\n",
       "    </tr>\n",
       "    <tr>\n",
       "      <th>13</th>\n",
       "      <td>2013</td>\n",
       "      <td>85</td>\n",
       "    </tr>\n",
       "    <tr>\n",
       "      <th>14</th>\n",
       "      <td>2014</td>\n",
       "      <td>88</td>\n",
       "    </tr>\n",
       "    <tr>\n",
       "      <th>15</th>\n",
       "      <td>2015</td>\n",
       "      <td>75</td>\n",
       "    </tr>\n",
       "    <tr>\n",
       "      <th>16</th>\n",
       "      <td>2016</td>\n",
       "      <td>90</td>\n",
       "    </tr>\n",
       "    <tr>\n",
       "      <th>17</th>\n",
       "      <td>2017</td>\n",
       "      <td>93</td>\n",
       "    </tr>\n",
       "    <tr>\n",
       "      <th>18</th>\n",
       "      <td>2018</td>\n",
       "      <td>95</td>\n",
       "    </tr>\n",
       "    <tr>\n",
       "      <th>19</th>\n",
       "      <td>2019</td>\n",
       "      <td>98</td>\n",
       "    </tr>\n",
       "    <tr>\n",
       "      <th>20</th>\n",
       "      <td>2020</td>\n",
       "      <td>99</td>\n",
       "    </tr>\n",
       "  </tbody>\n",
       "</table>\n",
       "</div>"
      ],
      "text/plain": [
       "    Year  Placement\n",
       "0   2000         50\n",
       "1   2001         54\n",
       "2   2002         62\n",
       "3   2003         78\n",
       "4   2004         65\n",
       "5   2005         69\n",
       "6   2006         72\n",
       "7   2007         77\n",
       "8   2008         85\n",
       "9   2009         98\n",
       "10  2010         75\n",
       "11  2011         80\n",
       "12  2012         82\n",
       "13  2013         85\n",
       "14  2014         88\n",
       "15  2015         75\n",
       "16  2016         90\n",
       "17  2017         93\n",
       "18  2018         95\n",
       "19  2019         98\n",
       "20  2020         99"
      ]
     },
     "execution_count": 22,
     "metadata": {},
     "output_type": "execute_result"
    }
   ],
   "source": [
    "datafile=pd.DataFrame()\n",
    "datafile[0]=np.arange(2000,2021)\n",
    "datafile[1]=[50,54,62,78,65,69,72,77,85,98,75,80,82,85,88,75,90,93,95,98,99]\n",
    "datafile.columns=['Year','Placement']\n",
    "datafile"
   ]
  },
  {
   "cell_type": "markdown",
   "metadata": {},
   "source": [
    "# Checking linearity"
   ]
  },
  {
   "cell_type": "code",
   "execution_count": 24,
   "metadata": {},
   "outputs": [
    {
     "data": {
      "image/png": "[encoded data removed]",
      "text/plain": [
       "<Figure size 432x288 with 1 Axes>"
      ]
     },
     "metadata": {
      "needs_background": "light"
     },
     "output_type": "display_data"
    }
   ],
   "source": [
    "plt.scatter(datafile['Year'],datafile['Placement'])\n",
    "plt.title(\"Placement Plot\")\n",
    "plt.xlim(2000,2021)\n",
    "plt.ylim(45,100)\n",
    "plt.xticks(np.arange(2000,2021,2))\n",
    "plt.legend()\n",
    "plt.xlabel(\"Year\")\n",
    "plt.ylabel(\"Placement\")\n",
    "plt.show()"
   ]
  },
  {
   "cell_type": "code",
   "execution_count": 25,
   "metadata": {},
   "outputs": [
    {
     "data": {
      "text/plain": [
       "<matplotlib.axes._subplots.AxesSubplot at 0x21b65115550>"
      ]
     },
     "execution_count": 25,
     "metadata": {},
     "output_type": "execute_result"
    },
    {
     "data": {
      "image/png": "[encoded data removed]",
      "text/plain": [
       "<Figure size 432x288 with 2 Axes>"
      ]
     },
     "metadata": {
      "needs_background": "light"
     },
     "output_type": "display_data"
    }
   ],
   "source": [
    "import seaborn as sb\n",
    "data_corr=datafile.corr()\n",
    "sb.heatmap(data_corr,annot=True)"
   ]
  },
  {
   "cell_type": "code",
   "execution_count": 26,
   "metadata": {},
   "outputs": [
    {
     "name": "stdout",
     "output_type": "stream",
     "text": [
      "Coefficients: [[1.94675325]]\n",
      "Intercept: [-3833.45021645]\n"
     ]
    }
   ],
   "source": [
    "from sklearn import linear_model\n",
    "regress=linear_model.LinearRegression()\n",
    "train_x=np.asanyarray(datafile[['Year']])\n",
    "train_y=np.asanyarray(datafile[['Placement']])\n",
    "#print(train_x)\n",
    "#print(train_y)\n",
    "regress.fit(train_x,train_y)\n",
    "#The coefficients\n",
    "print('Coefficients:',regress.coef_)\n",
    "print('Intercept:',regress.intercept_)\n"
   ]
  },
  {
   "cell_type": "markdown",
   "metadata": {},
   "source": [
    "# Plotoutputs"
   ]
  },
  {
   "cell_type": "code",
   "execution_count": 27,
   "metadata": {},
   "outputs": [
    {
     "data": {
      "image/png": "[encoded data removed]",
      "text/plain": [
       "<Figure size 432x288 with 1 Axes>"
      ]
     },
     "metadata": {
      "needs_background": "light"
     },
     "output_type": "display_data"
    }
   ],
   "source": [
    "plt.scatter(datafile.Year,datafile.Placement,   color='blue',label=\"Actual\")\n",
    "plt.plot(train_x,regress.coef_[0][0]*train_x+regress.intercept_[0],'-r',label=\"Predicted\")\n",
    "plt.title(\"Placement Plot\")\n",
    "plt.xlim(2000,2021)\n",
    "plt.ylim(45,100)\n",
    "plt.xticks(np.arange(2000,2021,2))\n",
    "plt.legend()\n",
    "plt.xlabel(\"Year\")\n",
    "plt.ylabel(\"Placement\")\n",
    "plt.show()"
   ]
  },
  {
   "cell_type": "code",
   "execution_count": 11,
   "metadata": {},
   "outputs": [
    {
     "name": "stdout",
     "output_type": "stream",
     "text": [
      "[50] [60.05627706]\n",
      "[54] [62.0030303]\n",
      "[62] [63.94978355]\n",
      "[78] [65.8965368]\n",
      "[65] [67.84329004]\n",
      "[69] [69.79004329]\n",
      "[72] [71.73679654]\n",
      "[77] [73.68354978]\n",
      "[85] [75.63030303]\n",
      "[98] [77.57705628]\n",
      "[75] [79.52380952]\n",
      "[80] [81.47056277]\n",
      "[82] [83.41731602]\n",
      "[85] [85.36406926]\n",
      "[88] [87.31082251]\n",
      "[75] [89.25757576]\n",
      "[90] [91.204329]\n",
      "[93] [93.15108225]\n",
      "[95] [95.0978355]\n",
      "[98] [97.04458874]\n",
      "[99] [98.99134199]\n",
      "   Year  Placement  Predicted\n",
      "0  2000         50  60.056277\n",
      "1  2001         54  62.003030\n",
      "2  2002         62  63.949784\n",
      "3  2003         78  65.896537\n",
      "4  2004         65  67.843290\n"
     ]
    }
   ],
   "source": [
    "y_predicted = regress.predict(train_x)\n",
    "for i in range(0,len(train_x)):\n",
    "    print(train_y[i],y_predicted[i])\n",
    "datafile['Predicted']=y_predicted\n",
    "\n",
    "print(datafile.head())\n",
    "datafile.to_csv(r\"C:\\Users\\DR.Noor Mahammad SK\\Downloads\\Placement.csv\")"
   ]
  },
  {
   "cell_type": "markdown",
   "metadata": {},
   "source": [
    "# Performance Measurement"
   ]
  },
  {
   "cell_type": "markdown",
   "metadata": {},
   "source": [
    "# Any of the following metrics can be used\n",
    "1) Mean Absolute error\n",
    "2) Mean Squared error\n",
    "3) Root Mean Squared error\n",
    "4) R-Square (not error)"
   ]
  },
  {
   "cell_type": "code",
   "execution_count": 28,
   "metadata": {},
   "outputs": [
    {
     "name": "stdout",
     "output_type": "stream",
     "text": [
      "Mean Absolute error  4.488476602762365\n",
      "Mean Squared error  51.002618016903796\n",
      "Root Mean Squared error  7.141611724037075\n"
     ]
    }
   ],
   "source": [
    "from sklearn import metrics\n",
    "print('Mean Absolute error ', metrics.mean_absolute_error(train_y,y_predicted))\n",
    "print('Mean Squared error ', metrics.mean_squared_error(train_y,y_predicted))\n",
    "print('Root Mean Squared error ', np.sqrt(metrics.mean_squared_error(train_y,y_predicted)))"
   ]
  },
  {
   "cell_type": "code",
   "execution_count": 29,
   "metadata": {},
   "outputs": [
    {
     "name": "stdout",
     "output_type": "stream",
     "text": [
      "Mean Absolute error (MAE) 4.488476602762365\n",
      "Mean Squared error (MSE) 1.1723081243665357e-26\n",
      "R2 score:%0.2f (RMSE) 0.7315138999516011\n"
     ]
    }
   ],
   "source": [
    "from sklearn.metrics import r2_score\n",
    "test_x=np.asanyarray(datafile[['Year']])\n",
    "test_y=np.asanyarray(datafile[['Placement']])\n",
    "test_y_predicted=regress.predict(test_x)\n",
    "print('Mean Absolute error (MAE)', np.mean(np.absolute(test_y_predicted-test_y)))\n",
    "print('Mean Squared error (MSE)', np.mean(test_y_predicted-test_y)**2)\n",
    "print('R2 score:%0.2f ', r2_score(test_y,test_y_predicted))\n"
   ]
  },
  {
   "cell_type": "markdown",
   "metadata": {},
   "source": [
    "# Using Training and Testing Data"
   ]
  },
  {
   "cell_type": "code",
   "execution_count": 34,
   "metadata": {},
   "outputs": [
    {
     "name": "stdout",
     "output_type": "stream",
     "text": [
      "    Year\n",
      "6   2006\n",
      "4   2004\n",
      "11  2011\n",
      "18  2018\n",
      "15  2015\n",
      "1   2001\n",
      "7   2007\n",
      "9   2009\n",
      "8   2008\n",
      "17  2017\n",
      "12  2012\n",
      "20  2020\n",
      "5   2005\n",
      "0   2000\n",
      "Testing\n",
      "    Year\n",
      "19  2019\n",
      "10  2010\n",
      "3   2003\n",
      "14  2014\n",
      "16  2016\n",
      "2   2002\n",
      "13  2013\n",
      "Coefficients: [[2.07038123]]\n",
      "Intercept: [-4082.2882279]\n"
     ]
    }
   ],
   "source": [
    "from sklearn.model_selection import train_test_split\n",
    "train_x,test_x,train_y,test_y=train_test_split(datafile[['Year']],datafile[['Placement']],test_size=0.30)\n",
    "print(train_x)\n",
    "print(\"Testing\")\n",
    "print(test_x)\n",
    "\n",
    "from sklearn import linear_model\n",
    "regress=linear_model.LinearRegression()\n",
    "regress.fit(train_x,train_y)\n",
    "#The coefficients\n",
    "print('Coefficients:',regress.coef_)\n",
    "print('Intercept:',regress.intercept_)\n",
    "\n"
   ]
  },
  {
   "cell_type": "code",
   "execution_count": 35,
   "metadata": {},
   "outputs": [
    {
     "name": "stdout",
     "output_type": "stream",
     "text": [
      "    Year\n",
      "19  2019\n",
      "10  2010\n",
      "3   2003\n",
      "14  2014\n",
      "16  2016\n",
      "2   2002\n",
      "13  2013\n",
      "    Placement\n",
      "19         98\n",
      "10         75\n",
      "3          78\n",
      "14         88\n",
      "16         90\n",
      "2          62\n",
      "13         85\n",
      "[[97.81147884]\n",
      " [79.17804776]\n",
      " [64.68537914]\n",
      " [87.45957269]\n",
      " [91.60033515]\n",
      " [62.61499791]\n",
      " [85.38919145]]\n"
     ]
    }
   ],
   "source": [
    "y_predicted=regress.predict(test_x)\n",
    "print(test_x)\n",
    "print(test_y)\n",
    "print(y_predicted)\n"
   ]
  },
  {
   "cell_type": "code",
   "execution_count": 36,
   "metadata": {},
   "outputs": [
    {
     "name": "stdout",
     "output_type": "stream",
     "text": [
      "Mean Absolute error  2.975163085762233\n",
      "Mean Squared error  28.307654101103434\n",
      "Root Mean Squared error  5.320493783579061\n"
     ]
    }
   ],
   "source": [
    "from sklearn import metrics\n",
    "print('Mean Absolute error ', metrics.mean_absolute_error(test_y,y_predicted))\n",
    "print('Mean Squared error ', metrics.mean_squared_error(test_y,y_predicted))\n",
    "print('Root Mean Squared error ', np.sqrt(metrics.mean_squared_error(test_y,y_predicted)))\n"
   ]
  },
  {
   "cell_type": "code",
   "execution_count": 40,
   "metadata": {},
   "outputs": [
    {
     "name": "stdout",
     "output_type": "stream",
     "text": [
      "[-0.27773705  0.1548425  -0.56796311 -1.02592642  0.92952204]\n"
     ]
    }
   ],
   "source": [
    "from sklearn.model_selection import cross_val_score\n",
    "accuracy=cross_val_score(regress,datafile[['Year']],datafile[['Placement']],cv=5,scoring='r2')\n",
    "print(accuracy)"
   ]
  },
  {
   "cell_type": "code",
   "execution_count": null,
   "metadata": {},
   "outputs": [],
   "source": []
  }
 ],
 "metadata": {
  "kernelspec": {
   "display_name": "Python 3",
   "language": "python",
   "name": "python3"
  },
  "language_info": {
   "codemirror_mode": {
    "name": "ipython",
    "version": 3
   },
   "file_extension": ".py",
   "mimetype": "text/x-python",
   "name": "python",
   "nbconvert_exporter": "python",
   "pygments_lexer": "ipython3",
   "version": "3.7.0"
  }
 },
 "nbformat": 4,
 "nbformat_minor": 2
}
