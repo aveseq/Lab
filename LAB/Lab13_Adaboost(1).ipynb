{
  "nbformat": 4,
  "nbformat_minor": 0,
  "metadata": {
    "colab": {
      "provenance": []
    },
    "kernelspec": {
      "name": "python3",
      "display_name": "Python 3"
    },
    "language_info": {
      "name": "python"
    }
  },
  "cells": [
    {
      "cell_type": "markdown",
      "source": [
        "# **Dhruv Karmokar**\n",
        "# **21BAI1604**"
      ],
      "metadata": {
        "id": "9w9tJFRRmwcO"
      }
    },
    {
      "cell_type": "markdown",
      "source": [
        "## **Lab 13 - Adaboost**"
      ],
      "metadata": {
        "id": "t2GzSenAm-I2"
      }
    },
    {
      "cell_type": "markdown",
      "source": [
        "###Use the **Adaboost algorithm** to print the accuracy with training and testing split ratio of 80 and 20 respectively for D1 and D*.\n",
        "\n",
        "####Are there any performance metrics apart of accuracy to measure the performance of ML model. If yes, Mention them. And compute those performance measure values for both D1 and D*."
      ],
      "metadata": {
        "id": "8opsjWX06NNC"
      }
    },
    {
      "cell_type": "code",
      "source": [
        "import pandas as pd\n",
        "from sklearn.ensemble import AdaBoostClassifier\n",
        "from sklearn.metrics import accuracy_score, precision_score, recall_score, f1_score\n",
        "from sklearn.model_selection import train_test_split\n",
        "from sklearn.impute import SimpleImputer\n",
        "\n",
        "# Read the CSV file into a pandas DataFrame, skipping the first line\n",
        "df = pd.read_csv('/content/Breast Cancer Wisconsin Diagnostic dataset .csv')\n",
        "\n",
        "# Replace 'diagnosis' with the correct column name for the target variable\n",
        "target_variable_column = 'diagnosis'  # Replace 'diagnosis' with the actual column name\n",
        "\n",
        "# Update target variable values to '1' for benign and '0' for malignant\n",
        "df[target_variable_column] = df[target_variable_column].map({'B': 1, 'M': 0})\n",
        "\n",
        "# Extract the features (X) and target variable (y)\n",
        "X = df.drop(target_variable_column, axis=1)\n",
        "y = df[target_variable_column]\n",
        "\n",
        "# Split the dataset into D1 and D* using an 80:20 train-test split ratio for D1\n",
        "X_train_D1, X_test_D1, y_train_D1, y_test_D1 = train_test_split(X, y, test_size=0.2, random_state=42)\n",
        "\n",
        "# Create an instance of SimpleImputer to handle missing values\n",
        "imputer = SimpleImputer()\n",
        "\n",
        "# Fit the imputer on the training data and transform both training and testing data for D1\n",
        "X_train_D1 = imputer.fit_transform(X_train_D1)\n",
        "X_test_D1 = imputer.transform(X_test_D1)\n",
        "\n",
        "# Create an instance of AdaBoostClassifier with regularization strength of 0.1\n",
        "adaboost = AdaBoostClassifier(learning_rate=0.1)\n",
        "\n",
        "# Train and evaluate the model on D1 dataset\n",
        "adaboost.fit(X_train_D1, y_train_D1)\n",
        "predictions_D1 = adaboost.predict(X_test_D1)\n",
        "\n",
        "accuracy_D1 = accuracy_score(y_test_D1, predictions_D1)\n",
        "precision_D1 = precision_score(y_test_D1, predictions_D1)\n",
        "recall_D1 = recall_score(y_test_D1, predictions_D1)\n",
        "f1score_D1 = f1_score(y_test_D1, predictions_D1)\n",
        "\n",
        "print(\"Results for D1 dataset:\")\n",
        "print(\"Accuracy:\", accuracy_D1)\n",
        "print(\"Precision:\", precision_D1)\n",
        "print(\"Recall:\", recall_D1)\n",
        "print(\"F1-Score:\", f1score_D1)\n",
        "\n",
        "# Split the remaining data (excluding D1) into D* using an 80:20 train-test split ratio\n",
        "X_remaining, _, y_remaining, _ = train_test_split(X, y, test_size=0.2, random_state=42)\n",
        "\n",
        "# Change the random_state value for splitting D* to a different value\n",
        "X_train_Dstar, X_test_Dstar, y_train_Dstar, y_test_Dstar = train_test_split(X_remaining, y_remaining, test_size=0.2, random_state=0)\n",
        "\n",
        "# Transform the D* dataset using the imputer\n",
        "X_train_Dstar = imputer.transform(X_train_Dstar)\n",
        "X_test_Dstar = imputer.transform(X_test_Dstar)\n",
        "\n",
        "# Train and evaluate the model on D* dataset\n",
        "adaboost.fit(X_train_Dstar, y_train_Dstar)\n",
        "predictions_Dstar = adaboost.predict(X_test_Dstar)\n",
        "\n",
        "accuracy_Dstar = accuracy_score(y_test_Dstar, predictions_Dstar)\n",
        "precision_Dstar = precision_score(y_test_Dstar, predictions_Dstar)\n",
        "recall_Dstar = recall_score(y_test_Dstar, predictions_Dstar)\n",
        "f1score_Dstar = f1_score(y_test_Dstar, predictions_Dstar)\n",
        "\n",
        "print(\"\\nResults for D* dataset:\")\n",
        "print(\"Accuracy:\", accuracy_Dstar)\n",
        "print(\"Precision:\", precision_Dstar)\n",
        "print(\"Recall:\", recall_Dstar)\n",
        "print(\"F1-Score:\", f1score_Dstar)\n"
      ],
      "metadata": {
        "colab": {
          "base_uri": "https://localhost:8080/"
        },
        "id": "S5LhSF-GbkG6",
        "outputId": "3d01ab48-6671-49d9-a6c1-e0844cf6d646"
      },
      "execution_count": 3,
      "outputs": [
        {
          "output_type": "stream",
          "name": "stdout",
          "text": [
            "Results for D1 dataset:\n",
            "Accuracy: 0.956140350877193\n",
            "Precision: 0.9583333333333334\n",
            "Recall: 0.971830985915493\n",
            "F1-Score: 0.965034965034965\n",
            "\n",
            "Results for D* dataset:\n",
            "Accuracy: 0.989010989010989\n",
            "Precision: 0.9821428571428571\n",
            "Recall: 1.0\n",
            "F1-Score: 0.9909909909909909\n"
          ]
        }
      ]
    },
    {
      "cell_type": "markdown",
      "source": [
        "###**Check that the accuracy that you get are the same for both datasets. Justify the values you are getting.**"
      ],
      "metadata": {
        "id": "aPOCpyW4U-yk"
      }
    },
    {
      "cell_type": "markdown",
      "source": [
        "The accuracy values for both datasets are very close, but not exactly the same.\n",
        "\n",
        "The reason for the slight difference in accuracy can be attributed to the random nature of the train-test split. In the code, the random_state parameter is set to the same value (42) for both splits. This means that the random_state value determines how the data is shuffled and subsequently divided into train and test sets. However, the random_state parameter is different when splitting D1 and D*, which can lead to slight variations in the resulting splits.\n",
        "\n",
        "Additionally, the slight difference in accuracy could also arise from the inherent variability in the data itself. The two datasets (D1 and D*) may have different distributions of samples, features, or target variable values, which can affect the model's performance and, consequently, the accuracy."
      ],
      "metadata": {
        "id": "BRoBJ50NUeam"
      }
    }
  ]
}